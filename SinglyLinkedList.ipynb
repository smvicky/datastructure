{
  "nbformat": 4,
  "nbformat_minor": 0,
  "metadata": {
    "colab": {
      "provenance": [],
      "authorship_tag": "ABX9TyNTqDKZ1wob9miVZuQrtXCX",
      "include_colab_link": true
    },
    "kernelspec": {
      "name": "python3",
      "display_name": "Python 3"
    },
    "language_info": {
      "name": "python"
    }
  },
  "cells": [
    {
      "cell_type": "markdown",
      "metadata": {
        "id": "view-in-github",
        "colab_type": "text"
      },
      "source": [
        "<a href=\"https://colab.research.google.com/github/smvicky/datastructure/blob/linked_list/SinglyLinkedList.ipynb\" target=\"_parent\"><img src=\"https://colab.research.google.com/assets/colab-badge.svg\" alt=\"Open In Colab\"/></a>"
      ]
    },
    {
      "cell_type": "code",
      "execution_count": 1,
      "metadata": {
        "id": "V-BOZuowSBUM"
      },
      "outputs": [],
      "source": [
        "\n"
      ]
    },
    {
      "cell_type": "code",
      "source": [
        "#create node\n",
        "\n",
        "class Node(object):\n",
        "  def __init__(self,data = None, next = None):\n",
        "    self.data = data\n",
        "    self.next = next\n",
        "\n",
        "  def setData(self,data):\n",
        "    self.data = data\n",
        "\n",
        "  def getData(self):\n",
        "    return self.data\n",
        "\n",
        "  def setNext(self,next):\n",
        "    self.next = next\n",
        "\n",
        "  def getNext(self):\n",
        "    return self.next\n",
        "\n",
        "  def hasNext(self):\n",
        "    return self.next != None\n",
        "\n",
        "\n",
        "class LinkedList(object):\n",
        "  def __init__(self, node =None):\n",
        "    self.head=node\n",
        "    self.length = 0\n",
        "\n",
        "  def getLength(self):\n",
        "    current = self.head\n",
        "    count = 0\n",
        "    while current.next != None:\n",
        "      current = current.next\n",
        "      count+=1\n",
        "    return count\n",
        "\n",
        "  def insertAtBegining(self,data):\n",
        "    newNode = Node()\n",
        "    newNode.setData(data)\n",
        "    # print(f\"insertAtBegining -{data}\")\n",
        "    if self.length == 0:\n",
        "      self.head = newNode\n",
        "    else:\n",
        "      newNode.setNext(self.head)\n",
        "      self.head=newNode\n",
        "    self.length +=1\n",
        "\n",
        "  def insertAtEnd(self,data):\n",
        "    # print(f\"insertAtEnd -{data}\")\n",
        "    newNode = Node()\n",
        "    newNode.setData(data)\n",
        "    if self.length == 0:\n",
        "      self.head = newNode\n",
        "    else:\n",
        "      current = self.head\n",
        "      while current.next !=None:\n",
        "        current= current.next\n",
        "      current.setNext(newNode)\n",
        "    self.length+=1\n",
        "\n",
        "  def insertAtPosition(self,pos,data):\n",
        "    # print(f\"insertAtPosition -{pos, data}\")\n",
        "    newNode = Node()\n",
        "    newNode.setData(data)\n",
        "    if pos>self.length or pos<0:\n",
        "      return\n",
        "    if self.length == 0:\n",
        "      self.insertAtBegining(self,data)\n",
        "    elif self.length ==1:\n",
        "      self.insertAtEnd(self,data)\n",
        "    else:\n",
        "      current = self.head\n",
        "      count=0\n",
        "      while count < pos-1:\n",
        "        count+=1\n",
        "        current = current.next\n",
        "      newNode.setNext(current.next)\n",
        "      current.setNext(newNode)\n",
        "    self.length+=1\n",
        "\n",
        "  def printList(self):\n",
        "    current = self.head\n",
        "    print(\"----------\")\n",
        "    if current == None:\n",
        "      print(\"empty linked list\")\n",
        "    else:\n",
        "      if current.next == None:\n",
        "        print(current.data)\n",
        "      else :\n",
        "        while current.next != None:\n",
        "          print(f\"val - {current.data}\")\n",
        "          current = current.next\n",
        "        print(f\"val - {current.data}\")\n",
        "\n",
        "\n"
      ],
      "metadata": {
        "id": "YlbbbAe8f4vC"
      },
      "execution_count": 18,
      "outputs": []
    },
    {
      "cell_type": "code",
      "source": [
        "# class TestLinkedList(object):\n",
        "#   def __init__(self):\n",
        "linkedList = LinkedList(node=None)\n",
        "linkedList.insertAtBegining(data=100)\n",
        "linkedList.insertAtBegining(data=200)\n",
        "linkedList.printList()\n",
        "linkedList.insertAtEnd(300)\n",
        "linkedList.printList()\n",
        "linkedList.insertAtPosition(2,400)\n",
        "linkedList.printList()\n",
        ""
      ],
      "metadata": {
        "id": "RW8Y9p9clQST",
        "outputId": "60b5b9dc-91dc-4ed2-ce13-fbbea66a285d",
        "colab": {
          "base_uri": "https://localhost:8080/"
        }
      },
      "execution_count": 19,
      "outputs": [
        {
          "output_type": "stream",
          "name": "stdout",
          "text": [
            "----------\n",
            "val - 200\n",
            "val - 100\n",
            "----------\n",
            "val - 200\n",
            "val - 100\n",
            "val - 300\n",
            "----------\n",
            "val - 200\n",
            "val - 100\n",
            "val - 400\n",
            "val - 300\n"
          ]
        }
      ]
    }
  ]
}