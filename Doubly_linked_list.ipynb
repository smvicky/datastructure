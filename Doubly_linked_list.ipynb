{
  "nbformat": 4,
  "nbformat_minor": 0,
  "metadata": {
    "colab": {
      "provenance": [],
      "authorship_tag": "ABX9TyNoHpjafK9sf6yShbdxgIg2",
      "include_colab_link": true
    },
    "kernelspec": {
      "name": "python3",
      "display_name": "Python 3"
    },
    "language_info": {
      "name": "python"
    }
  },
  "cells": [
    {
      "cell_type": "markdown",
      "metadata": {
        "id": "view-in-github",
        "colab_type": "text"
      },
      "source": [
        "<a href=\"https://colab.research.google.com/github/smvicky/datastructure/blob/linked_list/Doubly_linked_list.ipynb\" target=\"_parent\"><img src=\"https://colab.research.google.com/assets/colab-badge.svg\" alt=\"Open In Colab\"/></a>"
      ]
    },
    {
      "cell_type": "code",
      "execution_count": 43,
      "metadata": {
        "id": "theWRo-diQrI"
      },
      "outputs": [],
      "source": [
        "#create a node for dubly linked list\n",
        "class Node(object):\n",
        "  def __init__(self, data=None, pre=None,next=None):\n",
        "    self.data = data\n",
        "    self.pre = pre\n",
        "    self.next = next\n",
        "\n",
        "class LinkedList(object):\n",
        "  def __init__(self,node=None):\n",
        "    self.head = node\n",
        "    self.length = 0\n",
        "\n",
        "  def insertAtStart(self,data):\n",
        "    newNode = Node()\n",
        "    newNode.data = data\n",
        "    if self.length == 0:\n",
        "      self.head = newNode\n",
        "    else:\n",
        "      self.head.pre = newNode\n",
        "      newNode.next = self.head\n",
        "      newNode.pre = None\n",
        "      self.head = newNode\n",
        "    self.length +=1\n",
        "\n",
        "\n",
        "  def insertAtEnd(self,data):\n",
        "    newNode = Node()\n",
        "    newNode.data =data\n",
        "    if self.length == 0:\n",
        "      self.head=newNode\n",
        "    else:\n",
        "      current= self.head\n",
        "      while current.next != None:\n",
        "        current = current.next\n",
        "      current.next = newNode\n",
        "    self.length +=1\n",
        "\n",
        "\n",
        "  def insertAtPosition(self,data,position):\n",
        "    newNode = Node()\n",
        "    newNode.data = data\n",
        "    if self.length ==0:\n",
        "      print(\"list is empty\")\n",
        "      return\n",
        "    else:\n",
        "      if self.length<position or position<0:\n",
        "        return\n",
        "      current = self.head\n",
        "      pre= None\n",
        "      count = 0\n",
        "\n",
        "      while current.next != None:\n",
        "        if count+1 == position :\n",
        "          pre.next = newNode\n",
        "          newNode.per = pre\n",
        "          newNode.next = current\n",
        "          current.pre = newNode\n",
        "        count+=1\n",
        "        pre = current\n",
        "        current = current.next\n",
        "\n",
        "    self.length +=1\n",
        "\n",
        "\n",
        "  def readLinkedList(self):\n",
        "    if self.length == 0:\n",
        "      print(\"linked list in empty\")\n",
        "      return\n",
        "    else:\n",
        "      current = self.head\n",
        "      while current.next != None:\n",
        "        print(current.data)\n",
        "        current = current.next\n",
        "      print(current.data)\n",
        ""
      ]
    },
    {
      "cell_type": "code",
      "source": [
        "linkedList = LinkedList(node =None)\n",
        "linkedList.insertAtStart(100)\n",
        "linkedList.insertAtStart(200)\n",
        "linkedList.insertAtStart(300)\n",
        "linkedList.insertAtStart(400)\n",
        "linkedList.insertAtEnd(1000)\n",
        "linkedList.insertAtEnd(1100)\n",
        "linkedList.insertAtEnd(1200)\n",
        "linkedList.insertAtPosition(2000,4)\n",
        "linkedList.readLinkedList()"
      ],
      "metadata": {
        "id": "D7lVoTYYlWsU",
        "outputId": "0d455524-54ff-4658-851f-7d59d0813479",
        "colab": {
          "base_uri": "https://localhost:8080/"
        }
      },
      "execution_count": 44,
      "outputs": [
        {
          "output_type": "stream",
          "name": "stdout",
          "text": [
            "400\n",
            "300\n",
            "200\n",
            "2000\n",
            "100\n",
            "1000\n",
            "1100\n",
            "1200\n"
          ]
        }
      ]
    }
  ]
}